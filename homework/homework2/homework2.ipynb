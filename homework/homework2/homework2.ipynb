{
 "cells": [
  {
   "cell_type": "markdown",
   "metadata": {},
   "source": [
    "# Homework 2 (Due Monday, May 2)"
   ]
  },
  {
   "cell_type": "markdown",
   "metadata": {},
   "source": [
    "The goal of this exercise is to impiment the Metropolis-Hastings algorithm and the\n",
    "Affine-invariant ensemble MCMC for sampling from the basic 6-parameter LCDM model under idealized data.\n",
    "\n",
    "First download the simulated bandpowers with the following command.\n",
    "```julia\n",
    "download(\"https://github.com/EthanAnderes/STA250CMB.jl/homework/homework2/bandpowers.h5\", \"bandpowers.h5\")\n",
    "```\n",
    "\n",
    "Now load the data into Julia."
   ]
  },
  {
   "cell_type": "code",
   "execution_count": 1,
   "metadata": {
    "collapsed": false
   },
   "outputs": [
    {
     "data": {
      "text/plain": [
       "5626-element Array{Float64,1}:\n",
       "    1.37321e-6\n",
       " 6991.85      \n",
       " 1734.07      \n",
       "  680.7       \n",
       "  311.04      \n",
       "  283.329     \n",
       "   60.2673    \n",
       "  124.896     \n",
       "   75.3852    \n",
       "   27.8935    \n",
       "   53.5414    \n",
       "   32.1185    \n",
       "   29.115     \n",
       "    ⋮         \n",
       "    1.50434e25\n",
       "    1.52602e25\n",
       "    1.57783e25\n",
       "    1.56306e25\n",
       "    1.64049e25\n",
       "    1.67491e25\n",
       "    1.72643e25\n",
       "    1.76589e25\n",
       "    1.83756e25\n",
       "    1.84843e25\n",
       "    1.90897e25\n",
       "    1.9538e25 "
      ]
     },
     "execution_count": 1,
     "metadata": {},
     "output_type": "execute_result"
    }
   ],
   "source": [
    "using HDF5\n",
    "bandpowers = h5read(\"bandpowers.h5\", \"bandpowers\")"
   ]
  },
  {
   "cell_type": "markdown",
   "metadata": {},
   "source": [
    "These bandpowers were simulated from the Julia lecture `STA250CMB/lectures/julia_lecture5_LCDM_MCMC/julia_lecture5.ipynb`.\n",
    "You can see that lecture for more details of the simulation procedure but basically\n",
    "the bandpowers are given by\n",
    "$$\n",
    "\\sigma_{\\ell} = \\frac{1}{2\\ell + 1}\\sum_{m=-\\ell}^\\ell |d_{\\ell m}|^2.\n",
    "$$\n",
    "The data spherical harmonic coefficients $d_{\\ell m}$ were simulated from the idealized data model\n",
    "$$\n",
    "d_{\\ell m} = T_{\\ell m} + \\epsilon_{\\ell m}\n",
    "$$\n",
    "where the spectral density of $\\epsilon_{\\ell m}$ is given by $\\sigma^2 \\exp\\left(\\frac{b^2}{8\\log 2}\\ell(\\ell+1)\\right)$ with\n",
    "noise and beam given by\n",
    "\\begin{align*}\n",
    "\\sigma &= \\frac{10.0}{3437.75} \\\\\n",
    "b      &= 0.0035.\n",
    "\\end{align*}\n",
    "Note: the beam full width at half max is approximately 12 arcmins wide.\n",
    "\n",
    "To complete homework 2, impliment Metropolis-Hastings and Affine-invariant ensemble MCMC\n",
    "for sampling from the posterior on LCDM parameters $(\\Omega_bh^2, \\Omega_ch^2, \\tau, \\theta_s, 10^9A_s, n_s)$ given these simulated bandpowers. Use a unform prior\n",
    "for the LCDM parameters. You can choose whichever proposal distribution you like (feel free to try Gaussian updates where the covariance matrix of the Gaussian is estimated from the WMAP chain), so long as the resulting chain works\n",
    "mixes well. For both Markov chains, plot the iterations of the samples, the autocorrelation of the chain (after a sufficient\n",
    "burn-in) and make a triangle pairwise-density plot comparing the posterior contours of your chain to the WMAP chain. See `STA250CMB/lectures/julia_lecture5_LCDM_MCMC/julia_lecture5.ipynb` for details on downloading the WMAP chain and using `getDist` for plotting."
   ]
  },
  {
   "cell_type": "code",
   "execution_count": null,
   "metadata": {
    "collapsed": true
   },
   "outputs": [],
   "source": []
  }
 ],
 "metadata": {
  "kernelspec": {
   "display_name": "Julia 0.5.0-dev",
   "language": "julia",
   "name": "julia-0.5"
  },
  "language_info": {
   "file_extension": ".jl",
   "mimetype": "application/julia",
   "name": "julia",
   "version": "0.5.0"
  }
 },
 "nbformat": 4,
 "nbformat_minor": 0
}
